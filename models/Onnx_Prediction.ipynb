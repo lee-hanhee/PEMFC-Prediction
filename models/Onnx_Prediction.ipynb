{
 "cells": [
  {
   "cell_type": "code",
   "execution_count": 11,
   "id": "06741998",
   "metadata": {},
   "outputs": [
    {
     "name": "stdout",
     "output_type": "stream",
     "text": [
      "Predictions: [[510.41895]]\n"
     ]
    }
   ],
   "source": [
    "import numpy as np\n",
    "import onnxruntime as ort\n",
    "import scipy.io as sio\n",
    "\n",
    "# Load normalization parameters\n",
    "norm_params = sio.loadmat('NormalizationParams_7.0654.mat')\n",
    "means = norm_params['means'].flatten().astype(np.float32)  # Ensure dtype is float32\n",
    "stds = norm_params['stds'].flatten().astype(np.float32)    # Ensure dtype is float32\n",
    "\n",
    "# Define a function to normalize input data\n",
    "def normalize_data(data, means, stds):\n",
    "    return (data - means) / stds\n",
    "\n",
    "# Load the ONNX model\n",
    "onnx_model_path = '00_446.0251_Delp_Small_Stack_Deep_NN.onnx'\n",
    "session = ort.InferenceSession(onnx_model_path)\n",
    "\n",
    "# Example input data (replace with actual input data)\n",
    "input_data = np.array([\n",
    "    [1, 2, 3, 4, 5, 6]\n",
    "], dtype=np.float32)  # Ensure dtype is float32\n",
    "\n",
    "# Normalize the input data\n",
    "normalized_input = normalize_data(input_data, means, stds)\n",
    "\n",
    "# Perform inference\n",
    "inputs = {session.get_inputs()[0].name: normalized_input}\n",
    "predictions = session.run(None, inputs)[0]\n",
    "\n",
    "# Print the predictions\n",
    "print('Predictions:', predictions)"
   ]
  },
  {
   "cell_type": "code",
   "execution_count": null,
   "id": "61745049",
   "metadata": {},
   "outputs": [],
   "source": []
  }
 ],
 "metadata": {
  "kernelspec": {
   "display_name": "pytorchkernel",
   "language": "python",
   "name": "your_env_name"
  },
  "language_info": {
   "codemirror_mode": {
    "name": "ipython",
    "version": 3
   },
   "file_extension": ".py",
   "mimetype": "text/x-python",
   "name": "python",
   "nbconvert_exporter": "python",
   "pygments_lexer": "ipython3",
   "version": "3.11.5"
  }
 },
 "nbformat": 4,
 "nbformat_minor": 5
}
