{
 "cells": [
  {
   "cell_type": "code",
   "execution_count": 2,
   "id": "3050d14b",
   "metadata": {},
   "outputs": [
    {
     "name": "stdout",
     "output_type": "stream",
     "text": [
      "Predicted Pressure Drop: 93.86 Pa\n"
     ]
    },
    {
     "name": "stderr",
     "output_type": "stream",
     "text": [
      "/Users/hanheelee/anaconda3/lib/python3.11/site-packages/sklearn/base.py:464: UserWarning: X does not have valid feature names, but StandardScaler was fitted with feature names\n",
      "  warnings.warn(\n"
     ]
    }
   ],
   "source": [
    "import torch\n",
    "import torch.nn as nn\n",
    "import joblib\n",
    "\n",
    "# Model definition\n",
    "class DelpNN(nn.Module):\n",
    "    \"\"\"\n",
    "    A simple neural network for regression with five fully connected layers.\n",
    "    \"\"\"\n",
    "    def __init__(self):\n",
    "        super(DelpNN, self).__init__()  # Initialize the superclass\n",
    "        self.fc1 = nn.Linear(6, 256)  # First fully connected layer with 6 inputs and 256 outputs\n",
    "        self.fc2 = nn.Linear(256, 128)  # Second fully connected layer with 128 inputs and 64 outputs\n",
    "        self.fc3 = nn.Linear(128, 64)    # Third fully connected layer with 64 inputs and 16 outputs\n",
    "        self.fc4 = nn.Linear(64, 16)     # Fourth fully connected layer with 16 inputs and 1 output\n",
    "        self.fc5 = nn.Linear(16, 1)      # Output layer with 16 inputs and 1 output\n",
    "        self.relu = nn.ReLU()  # Activation function used between layers\n",
    "\n",
    "    def forward(self, x):\n",
    "        x = self.relu(self.fc1(x))  # Apply ReLU after each layer except the output layer\n",
    "        x = self.relu(self.fc2(x))\n",
    "        x = self.relu(self.fc3(x))\n",
    "        x = self.relu(self.fc4(x))\n",
    "        x = self.fc5(x)  # Output layer produces the final output\n",
    "        return x\n",
    "\n",
    "# Load the model\n",
    "model = DelpNN()\n",
    "model.load_state_dict(torch.load('Delp_10.6363.pth', map_location=torch.device('cpu')))  # Loading the model on the CPU\n",
    "model.eval()  # Set the model to evaluation mode\n",
    "\n",
    "# Load the scaler\n",
    "scaler_X = joblib.load('10.6363_6_scaler_X.pkl')\n",
    "\n",
    "# Function to prepare input\n",
    "def prepare_input(HCC, WCC, LCC, Tamb, Uin, Q):\n",
    "    # Create input array\n",
    "    inputs = [[HCC, WCC, LCC, Tamb, Uin, Q]]\n",
    "    # Scale inputs using the loaded scaler\n",
    "    inputs_scaled = scaler_X.transform(inputs)\n",
    "    # Convert to tensor\n",
    "    inputs_tensor = torch.tensor(inputs_scaled, dtype=torch.float32)\n",
    "    return inputs_tensor\n",
    "\n",
    "# Function to make prediction\n",
    "def make_prediction(model, inputs):\n",
    "    with torch.no_grad():  # Ensure that operations inside do not track history\n",
    "        prediction = model(inputs)\n",
    "        return prediction.item()\n",
    "\n",
    "if __name__ == '__main__':\n",
    "    # Example input values\n",
    "    inputs = prepare_input(0.001, 0.0005, 0.03, 253.15, 1.0, 1272.0)\n",
    "    predicted_Delp = make_prediction(model, inputs)\n",
    "    print(f'Predicted Pressure Drop: {predicted_Delp:.2f} Pa')  # Display the predicted pressure drop"
   ]
  },
  {
   "cell_type": "code",
   "execution_count": null,
   "id": "8bd0b3a6",
   "metadata": {},
   "outputs": [],
   "source": []
  },
  {
   "cell_type": "code",
   "execution_count": null,
   "id": "180888b1",
   "metadata": {},
   "outputs": [],
   "source": []
  },
  {
   "cell_type": "code",
   "execution_count": null,
   "id": "6cf75185",
   "metadata": {},
   "outputs": [],
   "source": []
  }
 ],
 "metadata": {
  "kernelspec": {
   "display_name": "Python 3 (ipykernel)",
   "language": "python",
   "name": "python3"
  },
  "language_info": {
   "codemirror_mode": {
    "name": "ipython",
    "version": 3
   },
   "file_extension": ".py",
   "mimetype": "text/x-python",
   "name": "python",
   "nbconvert_exporter": "python",
   "pygments_lexer": "ipython3",
   "version": "3.11.5"
  }
 },
 "nbformat": 4,
 "nbformat_minor": 5
}
